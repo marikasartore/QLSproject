{
 "cells": [
  {
   "cell_type": "markdown",
   "metadata": {},
   "source": [
    "# R code for the project"
   ]
  },
  {
   "cell_type": "code",
   "execution_count": 10,
   "metadata": {},
   "outputs": [
    {
     "data": {
      "text/html": [
       "7"
      ],
      "text/latex": [
       "7"
      ],
      "text/markdown": [
       "7"
      ],
      "text/plain": [
       "[1] 7"
      ]
     },
     "metadata": {},
     "output_type": "display_data"
    },
    {
     "data": {
      "text/html": [
       "<ol class=list-inline>\n",
       "\t<li>0</li>\n",
       "\t<li>0</li>\n",
       "\t<li>0</li>\n",
       "\t<li>0</li>\n",
       "\t<li>7</li>\n",
       "</ol>\n"
      ],
      "text/latex": [
       "\\begin{enumerate*}\n",
       "\\item 0\n",
       "\\item 0\n",
       "\\item 0\n",
       "\\item 0\n",
       "\\item 7\n",
       "\\end{enumerate*}\n"
      ],
      "text/markdown": [
       "1. 0\n",
       "2. 0\n",
       "3. 0\n",
       "4. 0\n",
       "5. 7\n",
       "\n",
       "\n"
      ],
      "text/plain": [
       "[1] 0 0 0 0 7"
      ]
     },
     "metadata": {},
     "output_type": "display_data"
    },
    {
     "data": {
      "text/html": [
       "<ol class=list-inline>\n",
       "\t<li>0</li>\n",
       "\t<li>1</li>\n",
       "\t<li>1</li>\n",
       "\t<li>1</li>\n",
       "\t<li>1</li>\n",
       "</ol>\n"
      ],
      "text/latex": [
       "\\begin{enumerate*}\n",
       "\\item 0\n",
       "\\item 1\n",
       "\\item 1\n",
       "\\item 1\n",
       "\\item 1\n",
       "\\end{enumerate*}\n"
      ],
      "text/markdown": [
       "1. 0\n",
       "2. 1\n",
       "3. 1\n",
       "4. 1\n",
       "5. 1\n",
       "\n",
       "\n"
      ],
      "text/plain": [
       "[1] 0 1 1 1 1"
      ]
     },
     "metadata": {},
     "output_type": "display_data"
    }
   ],
   "source": [
    "#proof that line 67 in the cell below is overwritten by the for loop\n",
    "#it's useless to impose the last element of empSAR \n",
    "#it has to be the estimation and not the true value\n",
    "Tot_plot <- 5\n",
    "Tot_species <-7\n",
    "\n",
    "empSAR<-rep(0,Tot_plot)     #repeat 0, Tot_plot times\n",
    "empSAR[1]<-0    #primo elem di empSAR è la media delle specie presenti in 1 cella (row)\n",
    "empSAR[length(empSAR)]<-Tot_species    \n",
    "empSAR[length(empSAR)]\n",
    "empSAR\n",
    "\n",
    "for (i in 2:Tot_plot){\n",
    "     empSAR[i]<-1\n",
    "}\n",
    "\n",
    "empSAR"
   ]
  },
  {
   "cell_type": "code",
   "execution_count": 1,
   "metadata": {},
   "outputs": [],
   "source": [
    "############################################################################################################\n",
    "##############     Inferring macro-ecological patterns from local species’ occurrences     #################\n",
    "############################################################################################################\n",
    "# \n",
    "# INPUT:  initial_data -> MxS matrix where M is the number of spatial cells into\n",
    "#                         which the plot is divided and S is the number of species\n",
    "#                         data[i,j] is 1 if species j is found in cell i, 0 otherwise\n",
    "#         area -> area of the plot to which we wish to upscale\n",
    "#         sampled_area -> total area of the surveyed samples\n",
    "#         estimated_r -> optional estimation of r (options: a positive real number or \"try you\")\n",
    "#         estimated_csi -> optional estimation of csi (options: a positive real number or \"try you\")\n",
    "\n",
    "\n",
    "UpscalingPA<-function(initial_data,area,sampled_area,estimated_r,estimated_csi)\n",
    "{ print(\"***********************************************************************\",quote=FALSE)\n",
    "  print(\"* Inferring macro-ecological patterns from local species’ occurrences *\",quote=FALSE)\n",
    "  print(\"***********************************************************************\",quote=FALSE)\n",
    "  \n",
    "  ###########################################################  \n",
    "  ###############     Check initial input     ###############\n",
    "  ###########################################################\n",
    "  \n",
    "  if(area<sampled_area)\n",
    "    cat(\"sampled_area must be smaller than area\")\n",
    "  if(estimated_r<0||estimated_csi<0||estimated_csi>1)\n",
    "    stop(\"Estimated parameters for RSA must be in the range r>0 and 0<xi<1\")\n",
    "  if(estimated_r!=\"try you\" & is.numeric(estimated_r)==FALSE)\n",
    "    stop(\"Invalid option for estimated_r. It must be either a positive real number or the string 'try you'\")\n",
    "  if(estimated_csi!=\"try you\" & is.numeric(estimated_csi)==FALSE)\n",
    "    stop(\"Invalid option for estimated_rho. It must be either a positive real number between 0 and 1 or the string 'try you'\")\n",
    "\n",
    "  ###########################################################\n",
    "  ###############    Print of Initial Data    ###############\n",
    "  ###########################################################\n",
    "  \n",
    "  # Total number of spatial cells\n",
    "  cat(\"***********************************************************\\n\")\n",
    "  cat(\"************           INITIAL DATA:           ************\\n\")\n",
    "  cat(\"***********************************************************\\n\")\n",
    "  Tot_plot<-nrow(initial_data)  #to return the number of rows of the specified matrix\n",
    "  cat(c(\"Total number of subplots:\",Tot_plot))\n",
    "  cat(\" \\n\")\n",
    "  \n",
    "  # Total number of species \n",
    "  Tot_species<-length(which(colSums(initial_data)!=0))\n",
    "  \n",
    "  cat(c(\"Total number of found species:\",Tot_species))\n",
    "  cat(\" \\n\")\n",
    "  \n",
    "\n",
    "  cat(\"***********************************************************\\n\")\n",
    "  cat(\"************   COMPUTING THE EMPIRICAL SAR...  ************\\n\")\n",
    "  cat(\"***********************************************************\\n\")\n",
    "  \n",
    "\n",
    "  cat(\"Percentage of computed distances:\\n\")\n",
    "  \n",
    "  ###########################################################\n",
    "  ###############        Empirical SAR        ###############\n",
    "  ###########################################################\n",
    "  \n",
    "\n",
    "    empSAR<-rep(0,Tot_plot)     #repeat 0, Tot_plot times\n",
    "    sdSAR<-rep(0,Tot_plot)      #repeat 0, Tot_plot times\n",
    "  \n",
    "    empSAR[1]<-mean(rowSums(initial_data))      #primo elem di empSAR è la media delle specie presenti in 1 cella (row)\n",
    "    empSAR[length(empSAR)]<-Tot_species         #l'ultimo elemento è il num totale delle specie\n",
    "                                                #inutile perchè poi viene sovrascritto con il valore stimato!!!\n",
    "    \n",
    "    per<-round(Tot_plot*seq(0.1,1,0.1))\n",
    "    count<-1\n",
    "    \n",
    "    for (i in 2:Tot_plot)                       #i è l'indice relativo a quante celle samplare-> relativo a p\n",
    "      {sar<-rep(0,100)                          #sar è array vuoto da 100 posti (ognuno è un trial diverso)\n",
    "      for (j in 1:100)                          #j è l'indice del trial\n",
    "        {Sample<-sample(1:Tot_plot,i)           #estrai i indici da 1 a tot_plot\n",
    "         sample_matrix<-initial_data[Sample,]   #crea submatrice da matrice iniziale con solo le celle estratte\n",
    "         presentSpecies<-colSums(sample_matrix) #somma colonne\n",
    "         sar[j]<-length(presentSpecies[presentSpecies!=0]) #colonne con somma!=0 (=specie presente)\n",
    "      }                                                    #vengono contate e inserite in sar[j]\n",
    "      \n",
    "      empSAR[i]<-sum(sar)/100                   #empirical sar = media sar dei 100 trials\n",
    "      sdSAR[i]<-sd(sar)\n",
    "        \n",
    "      if(i==per[count])                         #stampa la percentuale di calcolo\n",
    "      {cat(count, \"0% \",sep=\"\")\n",
    "        count<-count+1\n",
    "      }                 \n",
    "    }\n",
    "    \n",
    "    cat(\"\\n\")\n",
    "    \n",
    "    x<-1:Tot_plot\n",
    "    x<-x/Tot_plot\n",
    "  \n",
    "  ###########################################################\n",
    "  ###############       Theoretical SAR       ###############\n",
    "  ###########################################################\n",
    "  \n",
    "  csi.p<- function(samplep,csi) {\n",
    "    samplep*csi/(1-csi*(1-samplep))\n",
    "  }\n",
    "    \n",
    "  SAR_theo <- function(samplep,r,csi,S) {\n",
    "    S*(1-(1-csi.p(samplep,csi))^r)/(1-(1-csi)^r)\n",
    "  }\n",
    "  \n",
    "  ###########################################################\n",
    "  ###############        Fit of the SAR       ###############\n",
    "  ###########################################################\n",
    "  if (estimated_r==\"try you\")\n",
    "  {estimated_r<-0.2}\n",
    "  if (estimated_csi==\"try you\")\n",
    "  {estimated_csi<-0.999}\n",
    "  \n",
    "  # Points to fit\n",
    "  y<-empSAR\n",
    "  \n",
    "  # Fitting model\n",
    "  options(warn=-1)\n",
    "  fitSAR<-tryCatch(nls(y~SAR_theo(x,r,csi,Tot_species),data=data.frame(x,y),start=list(r=estimated_r,csi=estimated_csi)),error = function(e) {})\n",
    "  if(is.null(fitSAR)) \n",
    "  {s<-seq(from=0, to=Tot_plot)\n",
    "  plot(x,y,main=\"Empirical SAR\",xlab=\"p\",ylab=\"SAR(p)\",pch=20,mgp=c(1.8,0.5,0),xlim=c(0,max(x)))\n",
    "  stop(\"SAR fitting failed. Try with different rho and lambda initial estimates\")}\n",
    "  options(warn=0)\n",
    "  cat(\" \\n\")\n",
    "  \n",
    "  cat(\"***********************************************************\\n\")\n",
    "  cat(\"************          FITTING RESULTS:         ************\\n\")\n",
    "  cat(\"***********************************************************\\n\")\n",
    "  print(summary(fitSAR))\n",
    "  \n",
    "  # Graph of the fitting pcf curve\n",
    "  par(mar=c(5.1, 4.1, 4.1, 8.1), xpd=TRUE)\n",
    "  s<-seq(0.01,1,0.01)\n",
    "  plot(x,y,main=\"Species Area Relationship\",xlab=\"p\",ylab=\"SAR(p)\",pch=20,mgp=c(1.8,0.5,0),ylim=c(0,max(y[1],predict(fitSAR,list(x=1)))))\n",
    "  lines(s, predict(fitSAR,list(x=s)),col=\"green\",lwd=3)\n",
    "  legend(\"topright\",inset=c(-0.3,0.3),legend=c(\"emp\",\"fit\"),lwd=c(NA,3),pch=c(20,NA),lty=c(NA,1),col=c(\"black\",\"green\"),pt.cex=1.5,seg.len=1)\n",
    "  \n",
    "  r.fit<-as.numeric(abs(coef(fitSAR)[1]))\n",
    "  csi.fit<-as.numeric(coef(fitSAR)[2])\n",
    "#fino qui tutto uguale\n",
    " \n",
    "  options(warn=-1)\n",
    "  std.error.r<-coef(summary(fitSAR))[3]\n",
    "  std.error.csi<-coef(summary(fitSAR))[4]\n",
    "  options(warn=0)\n",
    "  \n",
    "#qui si decide la frazione per fare upscaling\n",
    "  p<-sampled_area/area\n",
    "    \n",
    "  csi.global<-csi.fit/(p+csi.fit*(1-p))  #formula n4 per passare da csi_star (quello del fit) ad uno csi_global=csi\n",
    "  S.estimate<-Tot_species*(1-(1-csi.global)^r.fit)/(1-(1-csi.fit)^r.fit) #formula n8\n",
    "  \n",
    "  # Computing the error on S.estimate\n",
    "  upscaling<-expression( Tot_species*(1-(1-csi.fit/(p+csi.fit*(1-p)))^r.fit)/(1-(1-csi.fit)^r.fit) )\n",
    "  \n",
    "  der.r<-deriv(upscaling,\"r.p\")\n",
    "  der.csi<-deriv(upscaling,\"csi.p\")\n",
    "  \n",
    "  std.error.S<-sqrt(as.numeric(eval(der.csi))^2*std.error.csi^2+as.numeric(eval(der.r))^2*std.error.r^2)\n",
    "  \n",
    "  print(\"***********************************************************\",quote=FALSE)\n",
    "  print(\" \",quote=FALSE)\n",
    "  print(\"UPSCALING RESULTS:\",quote=FALSE)\n",
    "  print(\" \",quote=FALSE)\n",
    "  print(c(\"Estimated total biodiversity S:\",round(S.estimate)),quote=FALSE)\n",
    "  print(c(\"Error on S:\",round(std.error.S)),quote=FALSE)\n",
    "  print(\" \",quote=FALSE)\n",
    "  print(\"***********************************************************\",quote=FALSE)\n",
    " \n",
    "  return(empSAR)\n",
    " }\n"
   ]
  },
  {
   "cell_type": "code",
   "execution_count": 2,
   "metadata": {
    "scrolled": false
   },
   "outputs": [
    {
     "name": "stdout",
     "output_type": "stream",
     "text": [
      "[1] ***********************************************************************\n",
      "[1] * Inferring macro-ecological patterns from local species’ occurrences *\n",
      "[1] ***********************************************************************\n",
      "***********************************************************\n",
      "************           INITIAL DATA:           ************\n",
      "***********************************************************\n",
      "Total number of subplots: 480 \n",
      "Total number of found species: 4761 \n",
      "***********************************************************\n",
      "************   COMPUTING THE EMPIRICAL SAR...  ************\n",
      "***********************************************************\n",
      "Percentage of computed distances:\n",
      "10% 20% 30% 40% 50% 60% 70% 80% 90% 100% \n",
      " \n",
      "***********************************************************\n",
      "************          FITTING RESULTS:         ************\n",
      "***********************************************************\n",
      "\n",
      "Formula: y ~ SAR_theo(x, r, csi, Tot_species)\n",
      "\n",
      "Parameters:\n",
      "     Estimate Std. Error t value Pr(>|t|)    \n",
      "r   8.408e-01  1.198e-03   701.7   <2e-16 ***\n",
      "csi 9.788e-01  4.975e-05 19674.3   <2e-16 ***\n",
      "---\n",
      "Signif. codes:  0 '***' 0.001 '**' 0.01 '*' 0.05 '.' 0.1 ' ' 1\n",
      "\n",
      "Residual standard error: 4.182 on 478 degrees of freedom\n",
      "\n",
      "Number of iterations to convergence: 7 \n",
      "Achieved convergence tolerance: 7.102e-07\n",
      "\n",
      "[1] ***********************************************************\n",
      "[1]  \n",
      "[1] UPSCALING RESULTS:\n",
      "[1]  \n",
      "[1] Estimated total biodiversity S: 4939                           \n",
      "[1] Error on S: 6          \n",
      "[1]  \n",
      "[1] ***********************************************************\n"
     ]
    },
    {
     "data": {
      "image/png": "[encoded data removed]",
      "text/plain": [
       "Plot with title \"Species Area Relationship\""
      ]
     },
     "metadata": {},
     "output_type": "display_data"
    }
   ],
   "source": [
    "prova <- read.csv('NBpa5_file.csv')\n",
    "initial_data <- prova\n",
    "area <- 100\n",
    "sampled_area <- 5\n",
    "estimated_r <- 0.2\n",
    "estimated_csi <- 0.999\n",
    "\n",
    "#NB 5%\n",
    "dataNB5 <- UpscalingPA(initial_data,area,sampled_area,estimated_r,estimated_csi)"
   ]
  },
  {
   "cell_type": "code",
   "execution_count": 5,
   "metadata": {
    "scrolled": false
   },
   "outputs": [
    {
     "name": "stdout",
     "output_type": "stream",
     "text": [
      "[1] ***********************************************************************\n",
      "[1] * Inferring macro-ecological patterns from local species’ occurrences *\n",
      "[1] ***********************************************************************\n",
      "***********************************************************\n",
      "************           INITIAL DATA:           ************\n",
      "***********************************************************\n",
      "Total number of subplots: 480 \n",
      "Total number of found species: 4806 \n",
      "***********************************************************\n",
      "************   COMPUTING THE EMPIRICAL SAR...  ************\n",
      "***********************************************************\n",
      "Percentage of computed distances:\n",
      "10% 20% 30% 40% 50% 60% 70% 80% 90% 100% \n",
      " \n",
      "***********************************************************\n",
      "************          FITTING RESULTS:         ************\n",
      "***********************************************************\n",
      "\n",
      "Formula: y ~ SAR_theo(x, r, csi, Tot_species)\n",
      "\n",
      "Parameters:\n",
      "     Estimate Std. Error t value Pr(>|t|)    \n",
      "r   1.1774586  0.0065248   180.5   <2e-16 ***\n",
      "csi 0.8994398  0.0006351  1416.2   <2e-16 ***\n",
      "---\n",
      "Signif. codes:  0 '***' 0.001 '**' 0.01 '*' 0.05 '.' 0.1 ' ' 1\n",
      "\n",
      "Residual standard error: 12.46 on 478 degrees of freedom\n",
      "\n",
      "Number of iterations to convergence: 8 \n",
      "Achieved convergence tolerance: 6.311e-06\n",
      "\n",
      "[1] ***********************************************************\n",
      "[1]  \n",
      "[1] UPSCALING RESULTS:\n",
      "[1]  \n",
      "[1] Estimated total biodiversity S: 5139                           \n",
      "[1] Error on S: 34         \n",
      "[1]  \n",
      "[1] ***********************************************************\n"
     ]
    },
    {
     "data": {
      "image/png": "[encoded data removed]",
      "text/plain": [
       "Plot with title \"Species Area Relationship\""
      ]
     },
     "metadata": {},
     "output_type": "display_data"
    }
   ],
   "source": [
    "prova1 <- read.csv('LNpa5_file.csv')\n",
    "initial_data <- prova1\n",
    "area <- 100\n",
    "sampled_area <- 5\n",
    "estimated_r <- 0.2\n",
    "estimated_csi <- 0.999\n",
    "#LN 5%\n",
    "dataLN5 <- UpscalingPA(initial_data,area,sampled_area,estimated_r,estimated_csi)"
   ]
  }
 ],
 "metadata": {
  "kernelspec": {
   "display_name": "R",
   "language": "R",
   "name": "ir"
  },
  "language_info": {
   "codemirror_mode": "r",
   "file_extension": ".r",
   "mimetype": "text/x-r-source",
   "name": "R",
   "pygments_lexer": "r",
   "version": "3.6.1"
  }
 },
 "nbformat": 4,
 "nbformat_minor": 4
}
